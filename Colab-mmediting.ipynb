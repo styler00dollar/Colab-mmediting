{
  "nbformat": 4,
  "nbformat_minor": 0,
  "metadata": {
    "colab": {
      "name": "Colab-mmediting.ipynb",
      "provenance": [],
      "private_outputs": true,
      "collapsed_sections": [],
      "toc_visible": true
    },
    "kernelspec": {
      "name": "python3",
      "display_name": "Python 3"
    },
    "accelerator": "GPU"
  },
  "cells": [
    {
      "cell_type": "markdown",
      "metadata": {
        "id": "5REUXZI7ejq6",
        "colab_type": "text"
      },
      "source": [
        "# Colab-mmediting with [open-mmlab/mmediting](https://github.com/open-mmlab/mmediting)\n",
        "\n",
        "My fork is located in [styler00dollar/Colab-mmediting](https://github.com/styler00dollar/Colab-mmediting).\n",
        "\n",
        "Currently only the testing of inpainting models is supported. Training does not seem to work."
      ]
    },
    {
      "cell_type": "code",
      "metadata": {
        "id": "N7SvGgIHiNCF",
        "colab_type": "code",
        "colab": {}
      },
      "source": [
        "!nvidia-smi"
      ],
      "execution_count": null,
      "outputs": []
    },
    {
      "cell_type": "markdown",
      "metadata": {
        "id": "6giPJBPbb4JU",
        "colab_type": "text"
      },
      "source": [
        "# test inpainting"
      ]
    },
    {
      "cell_type": "code",
      "metadata": {
        "id": "pq-pTiD6LHx3",
        "colab_type": "code",
        "cellView": "form",
        "colab": {}
      },
      "source": [
        "#@title Install everything\n",
        "%cd /content/\n",
        "#!git clone https://github.com/styler00dollar/Colab-Zooming-Slow-Mo\n",
        "!wget -c https://repo.anaconda.com/miniconda/Miniconda3-4.5.4-Linux-x86_64.sh\n",
        "!chmod +x Miniconda3-4.5.4-Linux-x86_64.sh\n",
        "!bash ./Miniconda3-4.5.4-Linux-x86_64.sh -b -f -p /usr/local\n",
        "#!conda install pytorch cudatoolkit==10.0.130 torchvision -c pytorch -y\n",
        "!conda install pytorch cudatoolkit==10.1.243 torchvision -c pytorch -y\n",
        "!git clone https://github.com/open-mmlab/mmediting.git\n",
        "%cd mmediting\n",
        "!pip install -r requirements.txt\n",
        "!pip install -v -e .  # or \"python setup.py develop\""
      ],
      "execution_count": null,
      "outputs": []
    },
    {
      "cell_type": "code",
      "metadata": {
        "id": "5HqxxcebfWef",
        "colab_type": "code",
        "cellView": "form",
        "colab": {}
      },
      "source": [
        "#@title install mmcv (pre-compiled)\n",
        "!pip install mmcv-full==latest+torch1.5.0+cu101 -f https://openmmlab.oss-accelerate.aliyuncs.com/mmcv/dist/index.html\n"
      ],
      "execution_count": null,
      "outputs": []
    },
    {
      "cell_type": "code",
      "metadata": {
        "id": "0Jvu3Izq51ZA",
        "colab_type": "code",
        "cellView": "form",
        "colab": {}
      },
      "source": [
        "#@title install mmcv (compile)\n",
        "%cd /content/\n",
        "!git clone https://github.com/open-mmlab/mmcv.git\n",
        "%cd /content/mmcv\n",
        "!MMCV_WITH_OPS=1 pip install -e ."
      ],
      "execution_count": null,
      "outputs": []
    },
    {
      "cell_type": "code",
      "metadata": {
        "id": "U5To_7PcbdNm",
        "colab_type": "code",
        "cellView": "form",
        "colab": {}
      },
      "source": [
        "#@title download all models\n",
        "%cd /content/\n",
        "!mkdir /content/models/\n",
        "# deepfillv2\n",
        "!wget --no-check-certificate 'https://openmmlab.oss-accelerate.aliyuncs.com/mmediting/inpainting/deepfillv2/deepfillv2_256x256_8x2_places_20200619-10d15793.pth' -O /content/models/deepfillv2_256x256_8x2_places.pth\n",
        "!wget --no-check-certificate 'https://openmmlab.oss-accelerate.aliyuncs.com/mmediting/inpainting/deepfillv2/deepfillv2_256x256_8x2_celeba_20200619-c96e5f12.pth' -O /content/models/deepfillv2_256x256_8x2_celeba.pth\n",
        "# deepfillv1\n",
        "!wget --no-check-certificate 'https://openmmlab.oss-accelerate.aliyuncs.com/mmediting/inpainting/deepfillv1/deepfillv1_256x256_4x4_celeba_20200619-dd51a855.pth' -O /content/models/deepfillv1_256x256_4x4_celeba.pth\n",
        "!wget --no-check-certificate 'https://openmmlab.oss-accelerate.aliyuncs.com/mmediting/inpainting/deepfillv1/deepfillv1_256x256_8x2_places_20200619-c00a0e21.pth' -O /content/models/deepfillv1_256x256_8x2_places.pth\n",
        "# global_local\n",
        "!wget --no-check-certificate 'https://openmmlab.oss-accelerate.aliyuncs.com/mmediting/inpainting/global_local/gl_256x256_8x12_celeba_20200619-5af0493f.pth' -O /content/models/gl_256x256_8x12_celeba.pth\n",
        "!wget --no-check-certificate 'https://openmmlab.oss-accelerate.aliyuncs.com/mmediting/inpainting/global_local/gl_256x256_8x12_places_20200619-52a040a8.pth' -O /content/models/gl_256x256_8x12_places.pth\n",
        "# partial_conv\n",
        "!wget --no-check-certificate 'https://openmmlab.oss-accelerate.aliyuncs.com/mmediting/inpainting/pconv/pconv_256x256_stage2_4x2_places_20200619-1ffed0e8.pth' -O /content/models/pconv_places.pth\n",
        "!wget --no-check-certificate 'https://openmmlab.oss-accelerate.aliyuncs.com/mmediting/inpainting/pconv/pconv_256x256_stage2_4x2_celeba_20200619-860f8b95.pth' -O /content/models/pconv_celeba.pth\n",
        "%cd /content/mmediting"
      ],
      "execution_count": null,
      "outputs": []
    },
    {
      "cell_type": "markdown",
      "metadata": {
        "id": "yGA8wwgbcIvt",
        "colab_type": "text"
      },
      "source": [
        "Place pictures in ```/content/image.png``` and ```/content/mask.png ```. Result will be in ```/content/result.png```.\n",
        "\n",
        "Info: The mask is a black white image and the masked area is white. "
      ]
    },
    {
      "cell_type": "markdown",
      "metadata": {
        "id": "rfbkE2oVemqf",
        "colab_type": "text"
      },
      "source": [
        "deepfillv2 [BEST]"
      ]
    },
    {
      "cell_type": "code",
      "metadata": {
        "id": "6yLpR2sBOVA-",
        "colab_type": "code",
        "cellView": "form",
        "colab": {}
      },
      "source": [
        "#@title deepfill v2 places\n",
        "!python demo/inpainting_demo.py configs/inpainting/deepfillv2/deepfillv2_256x256_8x2_places.py /content/models/deepfillv2_256x256_8x2_places.pth /content/image.png /content/mask.png /content/result.png"
      ],
      "execution_count": null,
      "outputs": []
    },
    {
      "cell_type": "code",
      "metadata": {
        "id": "ZKR7CROqc1lP",
        "colab_type": "code",
        "cellView": "form",
        "colab": {}
      },
      "source": [
        "#@title deepfill v2 celeba\n",
        "!python demo/inpainting_demo.py configs/inpainting/deepfillv2/deepfillv2_256x256_8x2_celeba.py /content/models/deepfillv2_256x256_8x2_celeba.pth /content/image.png /content/mask.png /content/result.png"
      ],
      "execution_count": null,
      "outputs": []
    },
    {
      "cell_type": "markdown",
      "metadata": {
        "id": "0MJLf_sWeo7z",
        "colab_type": "text"
      },
      "source": [
        "deepfillv1"
      ]
    },
    {
      "cell_type": "code",
      "metadata": {
        "id": "TCl0oMrGc_Sw",
        "colab_type": "code",
        "cellView": "form",
        "colab": {}
      },
      "source": [
        "#@title deepfill v1 places\n",
        "!python demo/inpainting_demo.py configs/inpainting/deepfillv1/deepfillv1_256x256_8x2_places.py /content/models/deepfillv1_256x256_8x2_places.pth /content/image.png /content/mask.png /content/result.png"
      ],
      "execution_count": null,
      "outputs": []
    },
    {
      "cell_type": "code",
      "metadata": {
        "id": "eMMd4hB6dIOs",
        "colab_type": "code",
        "cellView": "form",
        "colab": {}
      },
      "source": [
        "#@title deepfill v1 celeba\n",
        "!python demo/inpainting_demo.py configs/inpainting/deepfillv1/deepfillv1_256x256_4x4_celeba.py /content/models/deepfillv1_256x256_4x4_celeba.pth /content/image.png /content/mask.png /content/result.png"
      ],
      "execution_count": null,
      "outputs": []
    },
    {
      "cell_type": "markdown",
      "metadata": {
        "id": "U7CdL58mer_5",
        "colab_type": "text"
      },
      "source": [
        "global_local"
      ]
    },
    {
      "cell_type": "code",
      "metadata": {
        "id": "SBpo1ZQUdPCv",
        "colab_type": "code",
        "cellView": "form",
        "colab": {}
      },
      "source": [
        "#@title global_local places\n",
        "!python demo/inpainting_demo.py configs/inpainting/global_local/gl_256x256_8x12_places.py /content/models/gl_256x256_8x12_places.pth /content/image.png /content/mask.png /content/result.png"
      ],
      "execution_count": null,
      "outputs": []
    },
    {
      "cell_type": "code",
      "metadata": {
        "id": "KrhWrbA8dXQl",
        "colab_type": "code",
        "cellView": "form",
        "colab": {}
      },
      "source": [
        "#@title global_local celeba\n",
        "!python demo/inpainting_demo.py configs/inpainting/global_local/gl_256x256_8x12_celeba.py /content/models/gl_256x256_8x12_celeba.pth /content/image.png /content/mask.png /content/result.png"
      ],
      "execution_count": null,
      "outputs": []
    },
    {
      "cell_type": "markdown",
      "metadata": {
        "id": "4X_FZSaFeu8Q",
        "colab_type": "text"
      },
      "source": [
        "partial_conv (broken?)"
      ]
    },
    {
      "cell_type": "code",
      "metadata": {
        "id": "d2dCAUN9dipe",
        "colab_type": "code",
        "cellView": "form",
        "colab": {}
      },
      "source": [
        "#@title partial_conv 8x1 places\n",
        "!python demo/inpainting_demo.py configs/inpainting/partial_conv/pconv_256x256_stage1_8x1_places.py /content/models/pconv_places.pth /content/image.png /content/mask.png /content/result.png"
      ],
      "execution_count": null,
      "outputs": []
    },
    {
      "cell_type": "code",
      "metadata": {
        "id": "TYUx3xlFdepC",
        "colab_type": "code",
        "cellView": "form",
        "colab": {}
      },
      "source": [
        "#@title partial_conv 8x1 celeba\n",
        "!python demo/inpainting_demo.py configs/inpainting/partial_conv/pconv_256x256_stage1_8x1_celeba.py /content/models/pconv_celeba.pth /content/image.png /content/mask.png /content/result.png"
      ],
      "execution_count": null,
      "outputs": []
    },
    {
      "cell_type": "code",
      "metadata": {
        "id": "VJ2995x-e4pc",
        "colab_type": "code",
        "cellView": "form",
        "colab": {}
      },
      "source": [
        "#@title partial_conv 4x2 places\n",
        "!python demo/inpainting_demo.py configs/inpainting/partial_conv/pconv_256x256_stage2_4x2_places.py /content/models/pconv_places.pth /content/image.png /content/mask.png /content/result.png"
      ],
      "execution_count": null,
      "outputs": []
    },
    {
      "cell_type": "code",
      "metadata": {
        "id": "TglLOv2Me-OC",
        "colab_type": "code",
        "cellView": "form",
        "colab": {}
      },
      "source": [
        "#@title partial_conv 4x2 celeba\n",
        "!python demo/inpainting_demo.py configs/inpainting/partial_conv/pconv_256x256_stage2_4x2_celeba.py /content/models/pconv_celeba.pth /content/image.png /content/mask.png /content/result.png"
      ],
      "execution_count": null,
      "outputs": []
    }
  ]
}